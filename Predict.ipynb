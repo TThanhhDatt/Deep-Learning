{
  "nbformat": 4,
  "nbformat_minor": 0,
  "metadata": {
    "colab": {
      "provenance": []
    },
    "kernelspec": {
      "name": "python3",
      "display_name": "Python 3"
    },
    "language_info": {
      "name": "python"
    }
  },
  "cells": [
    {
      "cell_type": "markdown",
      "source": [
        "# Import Modules"
      ],
      "metadata": {
        "id": "N26qtXRSN5ut"
      }
    },
    {
      "cell_type": "code",
      "execution_count": null,
      "metadata": {
        "id": "JRKQnxOHJQFZ"
      },
      "outputs": [],
      "source": [
        "import numpy as np\n",
        "import pandas as pd\n",
        "import matplotlib.pyplot as plt\n",
        "from sklearn.preprocessing import MinMaxScaler\n",
        "from keras.models import Sequential\n",
        "from keras.layers import LSTM, Dense, Dropout\n",
        "from tensorflow.keras.optimizers import Adam"
      ]
    },
    {
      "cell_type": "markdown",
      "source": [
        "# Prepare Data"
      ],
      "metadata": {
        "id": "yf9h3jTdPjAl"
      }
    },
    {
      "cell_type": "code",
      "source": [
        "def prepare_data(data_csv):\n",
        "  \"\"\"Read data\"\"\"\n",
        "  df = pd.read_csv(data_csv)\n",
        "  df['Date/Time'] = pd.to_datetime(df['Date/Time'])\n",
        "  df = df.sort_values(by='Date/Time')\n",
        "  return df\n",
        "\n",
        "def create_seq(data, seq_len):\n",
        "  \"\"\"Create data sequence for LSTM with sequence length\"\"\"\n",
        "  sequences = []\n",
        "  targets = []\n",
        "\n",
        "  for i in range(len(data)-seq_len):\n",
        "    seq = data[i:i+seq_len]\n",
        "    target = data[i+seq_len]\n",
        "    sequences.append(seq)\n",
        "    targets.append(target)\n",
        "\n",
        "  return np.array(sequences), np.array(targets)"
      ],
      "metadata": {
        "id": "ppMGrE10Ps2N"
      },
      "execution_count": null,
      "outputs": []
    },
    {
      "cell_type": "markdown",
      "source": [
        "# Build models"
      ],
      "metadata": {
        "id": "2KN8L8YyRnyN"
      }
    },
    {
      "cell_type": "code",
      "source": [
        "def LSTM_model(seq_len, num_features):\n",
        "  \"\"\"\n",
        "  Build LSTM model:\n",
        "  - 2 layers of LSTM with 50 units\n",
        "  - Dropout 0.2 to avoid overfitting\n",
        "  - Dense layer to predict price fluctuations\n",
        "  \"\"\"\n",
        "  model = Sequential([\n",
        "      LSTM(50, activation='relu', input_shape=(seq_len, num_features), return_sequences=True),\n",
        "      Dropout(0.2),\n",
        "      LSTM(50, activation='relu', return_sequences=False),\n",
        "      Dropout(0.2),\n",
        "      Dense(1, activation='linear')\n",
        "  ])\n",
        "  model.compile(optimizer=Adam(learning_rate=0.001), loss='mse')\n",
        "  return model"
      ],
      "metadata": {
        "id": "R07Wl3yxRtC-"
      },
      "execution_count": null,
      "outputs": []
    },
    {
      "cell_type": "markdown",
      "source": [
        "# Processing Data And Training"
      ],
      "metadata": {
        "id": "QxrCa2jgR_8H"
      }
    },
    {
      "cell_type": "code",
      "source": [
        "def train(data_csv, seq_len=15, epochs=20):\n",
        "  \"\"\"Processing data:\n",
        "    - Use 5 features: Open, High, Low, Close and Volume\n",
        "    - Normalize data using MinMaxScaler\n",
        "    - Create a data series with a length of 15 sessions for prediction\n",
        "    Train Model:\n",
        "    - Divide 80% of the data for training\n",
        "    - Divide 20% of the data for testing\n",
        "    - 20 epochs with batch size 32\n",
        "    - Use Mean Squared Error (MSE) as the loss function\n",
        "  \"\"\"\n",
        "  df = prepare_data(data_csv)\n",
        "\n",
        "  features = ['Open', 'High', 'Low', 'Close', 'Volume']\n",
        "  data = df[features].values\n",
        "\n",
        "  scaler = MinMaxScaler()\n",
        "  scaled_data = scaler.fit_transform(data)\n",
        "\n",
        "  X, y = create_seq(scaled_data, seq_len)\n",
        "\n",
        "  train_size = int(len(X) * 0.8)\n",
        "  X_train, y_train = X[:train_size], y[:train_size]\n",
        "  X_test, y_test = X[train_size:], y[train_size:]\n",
        "\n",
        "  model = LSTM_model(seq_len, len(features))\n",
        "  history = model.fit(X_train, y_train, epochs=epochs, batch_size=32, validation_data=(X_test, y_test))\n",
        "\n",
        "  train_pred = model.predict(X_train)\n",
        "  test_pred = model.predict(X_test)\n",
        "\n",
        "  return model, scaler, train_pred, test_pred, history, y_train, y_test, X_train, X_test"
      ],
      "metadata": {
        "id": "XIUfsUtPSD8N"
      },
      "execution_count": null,
      "outputs": []
    },
    {
      "cell_type": "markdown",
      "source": [
        "# Performance"
      ],
      "metadata": {
        "id": "Vere_poMTibJ"
      }
    },
    {
      "cell_type": "markdown",
      "source": [
        "## FPT"
      ],
      "metadata": {
        "id": "phufXDsb5AwJ"
      }
    },
    {
      "cell_type": "code",
      "source": [
        "data_fpt = \"/content/FPT.csv\"\n",
        "model, scaler, train_pred, test_pred, history, y_train, y_test, X_train, X_test= train(data_fpt)\n",
        "\n",
        "# Results\n",
        "# MSE (Mean Squared Error) is an important index to evaluate the accuracy of a prediction model\n",
        "print(\"\\Resultsá:\")\n",
        "print(f\"MSE on the train set: {np.mean((train_pred - y_train) ** 2):.6f}\")\n",
        "print(f\"MSE on the test set: {np.mean((test_pred - y_test) ** 2):.6f}\")\n",
        "\n",
        "# Predict price movements for the next session\n",
        "last_sequence = X_test[-1:]\n",
        "next_price_change = model.predict(last_sequence)[0][0]\n",
        "print(f\"\\nPredict price movements for the next session: {next_price_change:.4f}\")"
      ],
      "metadata": {
        "id": "9ZABpP--TvkB",
        "colab": {
          "base_uri": "https://localhost:8080/"
        },
        "outputId": "8503c02c-8185-4b94-c575-b8b2c9f113f7"
      },
      "execution_count": null,
      "outputs": [
        {
          "output_type": "stream",
          "name": "stderr",
          "text": [
            "/usr/local/lib/python3.11/dist-packages/keras/src/layers/rnn/rnn.py:200: UserWarning: Do not pass an `input_shape`/`input_dim` argument to a layer. When using Sequential models, prefer using an `Input(shape)` object as the first layer in the model instead.\n",
            "  super().__init__(**kwargs)\n"
          ]
        },
        {
          "output_type": "stream",
          "name": "stdout",
          "text": [
            "Epoch 1/20\n",
            "\u001b[1m2435/2435\u001b[0m \u001b[32m━━━━━━━━━━━━━━━━━━━━\u001b[0m\u001b[37m\u001b[0m \u001b[1m46s\u001b[0m 17ms/step - loss: 0.0446 - val_loss: 0.0979\n",
            "Epoch 2/20\n",
            "\u001b[1m2435/2435\u001b[0m \u001b[32m━━━━━━━━━━━━━━━━━━━━\u001b[0m\u001b[37m\u001b[0m \u001b[1m44s\u001b[0m 18ms/step - loss: 0.0402 - val_loss: 0.0987\n",
            "Epoch 3/20\n",
            "\u001b[1m2435/2435\u001b[0m \u001b[32m━━━━━━━━━━━━━━━━━━━━\u001b[0m\u001b[37m\u001b[0m \u001b[1m42s\u001b[0m 17ms/step - loss: 0.0403 - val_loss: 0.0978\n",
            "Epoch 4/20\n",
            "\u001b[1m2435/2435\u001b[0m \u001b[32m━━━━━━━━━━━━━━━━━━━━\u001b[0m\u001b[37m\u001b[0m \u001b[1m44s\u001b[0m 18ms/step - loss: 0.0402 - val_loss: 0.0980\n",
            "Epoch 5/20\n",
            "\u001b[1m2435/2435\u001b[0m \u001b[32m━━━━━━━━━━━━━━━━━━━━\u001b[0m\u001b[37m\u001b[0m \u001b[1m82s\u001b[0m 18ms/step - loss: 0.0401 - val_loss: 0.0983\n",
            "Epoch 6/20\n",
            "\u001b[1m2435/2435\u001b[0m \u001b[32m━━━━━━━━━━━━━━━━━━━━\u001b[0m\u001b[37m\u001b[0m \u001b[1m43s\u001b[0m 18ms/step - loss: 0.0402 - val_loss: 0.0982\n",
            "Epoch 7/20\n",
            "\u001b[1m2435/2435\u001b[0m \u001b[32m━━━━━━━━━━━━━━━━━━━━\u001b[0m\u001b[37m\u001b[0m \u001b[1m80s\u001b[0m 17ms/step - loss: 0.0401 - val_loss: 0.0978\n",
            "Epoch 8/20\n",
            "\u001b[1m2435/2435\u001b[0m \u001b[32m━━━━━━━━━━━━━━━━━━━━\u001b[0m\u001b[37m\u001b[0m \u001b[1m84s\u001b[0m 18ms/step - loss: 0.0401 - val_loss: 0.0980\n",
            "Epoch 9/20\n",
            "\u001b[1m2435/2435\u001b[0m \u001b[32m━━━━━━━━━━━━━━━━━━━━\u001b[0m\u001b[37m\u001b[0m \u001b[1m82s\u001b[0m 18ms/step - loss: 0.0402 - val_loss: 0.0979\n",
            "Epoch 10/20\n",
            "\u001b[1m2435/2435\u001b[0m \u001b[32m━━━━━━━━━━━━━━━━━━━━\u001b[0m\u001b[37m\u001b[0m \u001b[1m85s\u001b[0m 19ms/step - loss: 0.0401 - val_loss: 0.0978\n",
            "Epoch 11/20\n",
            "\u001b[1m2435/2435\u001b[0m \u001b[32m━━━━━━━━━━━━━━━━━━━━\u001b[0m\u001b[37m\u001b[0m \u001b[1m79s\u001b[0m 18ms/step - loss: 0.0400 - val_loss: 0.0981\n",
            "Epoch 12/20\n",
            "\u001b[1m2435/2435\u001b[0m \u001b[32m━━━━━━━━━━━━━━━━━━━━\u001b[0m\u001b[37m\u001b[0m \u001b[1m41s\u001b[0m 17ms/step - loss: 0.0401 - val_loss: 0.0978\n",
            "Epoch 13/20\n",
            "\u001b[1m2435/2435\u001b[0m \u001b[32m━━━━━━━━━━━━━━━━━━━━\u001b[0m\u001b[37m\u001b[0m \u001b[1m43s\u001b[0m 18ms/step - loss: 0.0402 - val_loss: 0.0984\n",
            "Epoch 14/20\n",
            "\u001b[1m2435/2435\u001b[0m \u001b[32m━━━━━━━━━━━━━━━━━━━━\u001b[0m\u001b[37m\u001b[0m \u001b[1m80s\u001b[0m 17ms/step - loss: 0.0401 - val_loss: 0.0981\n",
            "Epoch 15/20\n",
            "\u001b[1m2435/2435\u001b[0m \u001b[32m━━━━━━━━━━━━━━━━━━━━\u001b[0m\u001b[37m\u001b[0m \u001b[1m42s\u001b[0m 17ms/step - loss: 0.0402 - val_loss: 0.0982\n",
            "Epoch 16/20\n",
            "\u001b[1m2435/2435\u001b[0m \u001b[32m━━━━━━━━━━━━━━━━━━━━\u001b[0m\u001b[37m\u001b[0m \u001b[1m45s\u001b[0m 19ms/step - loss: 0.0401 - val_loss: 0.0987\n",
            "Epoch 17/20\n",
            "\u001b[1m2435/2435\u001b[0m \u001b[32m━━━━━━━━━━━━━━━━━━━━\u001b[0m\u001b[37m\u001b[0m \u001b[1m41s\u001b[0m 17ms/step - loss: 0.0403 - val_loss: 0.0987\n",
            "Epoch 18/20\n",
            "\u001b[1m2435/2435\u001b[0m \u001b[32m━━━━━━━━━━━━━━━━━━━━\u001b[0m\u001b[37m\u001b[0m \u001b[1m85s\u001b[0m 18ms/step - loss: 0.0402 - val_loss: 0.0987\n",
            "Epoch 19/20\n",
            "\u001b[1m2435/2435\u001b[0m \u001b[32m━━━━━━━━━━━━━━━━━━━━\u001b[0m\u001b[37m\u001b[0m \u001b[1m80s\u001b[0m 17ms/step - loss: 0.0401 - val_loss: 0.0985\n",
            "Epoch 20/20\n",
            "\u001b[1m2435/2435\u001b[0m \u001b[32m━━━━━━━━━━━━━━━━━━━━\u001b[0m\u001b[37m\u001b[0m \u001b[1m84s\u001b[0m 18ms/step - loss: 0.0400 - val_loss: 0.0991\n",
            "\u001b[1m2435/2435\u001b[0m \u001b[32m━━━━━━━━━━━━━━━━━━━━\u001b[0m\u001b[37m\u001b[0m \u001b[1m12s\u001b[0m 5ms/step\n",
            "\u001b[1m609/609\u001b[0m \u001b[32m━━━━━━━━━━━━━━━━━━━━\u001b[0m\u001b[37m\u001b[0m \u001b[1m3s\u001b[0m 5ms/step\n",
            "\\Resultsá:\n",
            "MSE on the train set: 0.039823\n",
            "MSE on the test set: 0.099106\n",
            "\u001b[1m1/1\u001b[0m \u001b[32m━━━━━━━━━━━━━━━━━━━━\u001b[0m\u001b[37m\u001b[0m \u001b[1m0s\u001b[0m 45ms/step\n",
            "\n",
            "Predict price movements for the next session: 0.6910\n"
          ]
        }
      ]
    },
    {
      "cell_type": "markdown",
      "source": [
        "## MSN"
      ],
      "metadata": {
        "id": "E9_5JSeG5I3x"
      }
    },
    {
      "cell_type": "code",
      "source": [
        "data_msn = \"/content/MSN.csv\"\n",
        "model, scaler, train_pred, test_pred, history, y_train, y_test, X_train, X_test= train(data_msn)\n",
        "\n",
        "# Results\n",
        "print(\"\\Resultsá:\")\n",
        "print(f\"MSE on the train set: {np.mean((train_pred - y_train) ** 2):.6f}\")\n",
        "print(f\"MSE on the test set: {np.mean((test_pred - y_test) ** 2):.6f}\")\n",
        "\n",
        "# Predict price movements for the next session\n",
        "last_sequence = X_test[-1:]\n",
        "next_price_change = model.predict(last_sequence)[0][0]\n",
        "print(f\"\\nPredict price movements for the next session: {next_price_change:.4f}\")"
      ],
      "metadata": {
        "colab": {
          "base_uri": "https://localhost:8080/"
        },
        "id": "xQR4Zvfb5RAi",
        "outputId": "6dca2f6c-ad71-40af-ef2e-cb8fe519500b"
      },
      "execution_count": null,
      "outputs": [
        {
          "output_type": "stream",
          "name": "stderr",
          "text": [
            "/usr/local/lib/python3.11/dist-packages/keras/src/layers/rnn/rnn.py:200: UserWarning: Do not pass an `input_shape`/`input_dim` argument to a layer. When using Sequential models, prefer using an `Input(shape)` object as the first layer in the model instead.\n",
            "  super().__init__(**kwargs)\n"
          ]
        },
        {
          "output_type": "stream",
          "name": "stdout",
          "text": [
            "Epoch 1/20\n",
            "\u001b[1m3384/3384\u001b[0m \u001b[32m━━━━━━━━━━━━━━━━━━━━\u001b[0m\u001b[37m\u001b[0m \u001b[1m63s\u001b[0m 17ms/step - loss: 0.0399 - val_loss: 0.0184\n",
            "Epoch 2/20\n",
            "\u001b[1m3384/3384\u001b[0m \u001b[32m━━━━━━━━━━━━━━━━━━━━\u001b[0m\u001b[37m\u001b[0m \u001b[1m58s\u001b[0m 17ms/step - loss: 0.0366 - val_loss: 0.0184\n",
            "Epoch 3/20\n",
            "\u001b[1m3384/3384\u001b[0m \u001b[32m━━━━━━━━━━━━━━━━━━━━\u001b[0m\u001b[37m\u001b[0m \u001b[1m81s\u001b[0m 17ms/step - loss: 0.0366 - val_loss: 0.0184\n",
            "Epoch 4/20\n",
            "\u001b[1m3384/3384\u001b[0m \u001b[32m━━━━━━━━━━━━━━━━━━━━\u001b[0m\u001b[37m\u001b[0m \u001b[1m84s\u001b[0m 18ms/step - loss: 0.0367 - val_loss: 0.0184\n",
            "Epoch 5/20\n",
            "\u001b[1m3384/3384\u001b[0m \u001b[32m━━━━━━━━━━━━━━━━━━━━\u001b[0m\u001b[37m\u001b[0m \u001b[1m82s\u001b[0m 18ms/step - loss: 0.0366 - val_loss: 0.0184\n",
            "Epoch 6/20\n",
            "\u001b[1m3384/3384\u001b[0m \u001b[32m━━━━━━━━━━━━━━━━━━━━\u001b[0m\u001b[37m\u001b[0m \u001b[1m80s\u001b[0m 17ms/step - loss: 0.0366 - val_loss: 0.0184\n",
            "Epoch 7/20\n",
            "\u001b[1m3384/3384\u001b[0m \u001b[32m━━━━━━━━━━━━━━━━━━━━\u001b[0m\u001b[37m\u001b[0m \u001b[1m84s\u001b[0m 18ms/step - loss: 0.0366 - val_loss: 0.0185\n",
            "Epoch 8/20\n",
            "\u001b[1m3384/3384\u001b[0m \u001b[32m━━━━━━━━━━━━━━━━━━━━\u001b[0m\u001b[37m\u001b[0m \u001b[1m82s\u001b[0m 18ms/step - loss: 0.0365 - val_loss: 0.0184\n",
            "Epoch 9/20\n",
            "\u001b[1m3384/3384\u001b[0m \u001b[32m━━━━━━━━━━━━━━━━━━━━\u001b[0m\u001b[37m\u001b[0m \u001b[1m58s\u001b[0m 17ms/step - loss: 0.0366 - val_loss: 0.0185\n",
            "Epoch 10/20\n",
            "\u001b[1m3384/3384\u001b[0m \u001b[32m━━━━━━━━━━━━━━━━━━━━\u001b[0m\u001b[37m\u001b[0m \u001b[1m82s\u001b[0m 17ms/step - loss: 0.0368 - val_loss: 0.0184\n",
            "Epoch 11/20\n",
            "\u001b[1m3384/3384\u001b[0m \u001b[32m━━━━━━━━━━━━━━━━━━━━\u001b[0m\u001b[37m\u001b[0m \u001b[1m58s\u001b[0m 17ms/step - loss: 0.0367 - val_loss: 0.0184\n",
            "Epoch 12/20\n",
            "\u001b[1m3384/3384\u001b[0m \u001b[32m━━━━━━━━━━━━━━━━━━━━\u001b[0m\u001b[37m\u001b[0m \u001b[1m83s\u001b[0m 18ms/step - loss: 0.0366 - val_loss: 0.0184\n",
            "Epoch 13/20\n",
            "\u001b[1m3384/3384\u001b[0m \u001b[32m━━━━━━━━━━━━━━━━━━━━\u001b[0m\u001b[37m\u001b[0m \u001b[1m82s\u001b[0m 18ms/step - loss: 0.0367 - val_loss: 0.0184\n",
            "Epoch 14/20\n",
            "\u001b[1m3384/3384\u001b[0m \u001b[32m━━━━━━━━━━━━━━━━━━━━\u001b[0m\u001b[37m\u001b[0m \u001b[1m81s\u001b[0m 18ms/step - loss: 0.0365 - val_loss: 0.0184\n",
            "Epoch 15/20\n",
            "\u001b[1m3384/3384\u001b[0m \u001b[32m━━━━━━━━━━━━━━━━━━━━\u001b[0m\u001b[37m\u001b[0m \u001b[1m59s\u001b[0m 17ms/step - loss: 0.0366 - val_loss: 0.0184\n",
            "Epoch 16/20\n",
            "\u001b[1m3384/3384\u001b[0m \u001b[32m━━━━━━━━━━━━━━━━━━━━\u001b[0m\u001b[37m\u001b[0m \u001b[1m63s\u001b[0m 19ms/step - loss: 0.0365 - val_loss: 0.0184\n",
            "Epoch 17/20\n",
            "\u001b[1m3384/3384\u001b[0m \u001b[32m━━━━━━━━━━━━━━━━━━━━\u001b[0m\u001b[37m\u001b[0m \u001b[1m79s\u001b[0m 18ms/step - loss: 0.0367 - val_loss: 0.0184\n",
            "Epoch 18/20\n",
            "\u001b[1m3384/3384\u001b[0m \u001b[32m━━━━━━━━━━━━━━━━━━━━\u001b[0m\u001b[37m\u001b[0m \u001b[1m82s\u001b[0m 18ms/step - loss: 0.0366 - val_loss: 0.0184\n",
            "Epoch 19/20\n",
            "\u001b[1m3384/3384\u001b[0m \u001b[32m━━━━━━━━━━━━━━━━━━━━\u001b[0m\u001b[37m\u001b[0m \u001b[1m81s\u001b[0m 18ms/step - loss: 0.0366 - val_loss: 0.0184\n",
            "Epoch 20/20\n",
            "\u001b[1m3384/3384\u001b[0m \u001b[32m━━━━━━━━━━━━━━━━━━━━\u001b[0m\u001b[37m\u001b[0m \u001b[1m83s\u001b[0m 18ms/step - loss: 0.0365 - val_loss: 0.0184\n",
            "\u001b[1m3384/3384\u001b[0m \u001b[32m━━━━━━━━━━━━━━━━━━━━\u001b[0m\u001b[37m\u001b[0m \u001b[1m18s\u001b[0m 5ms/step\n",
            "\u001b[1m846/846\u001b[0m \u001b[32m━━━━━━━━━━━━━━━━━━━━\u001b[0m\u001b[37m\u001b[0m \u001b[1m4s\u001b[0m 5ms/step\n",
            "\\Resultsá:\n",
            "MSE on the train set: 0.036230\n",
            "MSE on the test set: 0.018412\n",
            "\u001b[1m1/1\u001b[0m \u001b[32m━━━━━━━━━━━━━━━━━━━━\u001b[0m\u001b[37m\u001b[0m \u001b[1m0s\u001b[0m 45ms/step\n",
            "\n",
            "Predict price movements for the next session: 0.4038\n"
          ]
        }
      ]
    },
    {
      "cell_type": "markdown",
      "source": [
        "## PNJ"
      ],
      "metadata": {
        "id": "je1kBDDN5StB"
      }
    },
    {
      "cell_type": "code",
      "source": [
        "data_pnj = \"/content/PNJ.csv\"\n",
        "model, scaler, train_pred, test_pred, history, y_train, y_test, X_train, X_test= train(data_pnj)\n",
        "\n",
        "# Results\n",
        "print(\"\\Resultsá:\")\n",
        "print(f\"MSE on the train set: {np.mean((train_pred - y_train) ** 2):.6f}\")\n",
        "print(f\"MSE on the test set: {np.mean((test_pred - y_test) ** 2):.6f}\")\n",
        "\n",
        "# Predict price movements for the next session\n",
        "last_sequence = X_test[-1:]\n",
        "next_price_change = model.predict(last_sequence)[0][0]\n",
        "print(f\"\\nPredict price movements for the next session: {next_price_change:.4f}\")"
      ],
      "metadata": {
        "colab": {
          "base_uri": "https://localhost:8080/"
        },
        "id": "Yc1r12AC5VRh",
        "outputId": "d6fbc557-68a3-4096-aa37-b262a52cf22f"
      },
      "execution_count": null,
      "outputs": [
        {
          "output_type": "stream",
          "name": "stdout",
          "text": [
            "Epoch 1/20\n"
          ]
        },
        {
          "output_type": "stream",
          "name": "stderr",
          "text": [
            "/usr/local/lib/python3.11/dist-packages/keras/src/layers/rnn/rnn.py:200: UserWarning: Do not pass an `input_shape`/`input_dim` argument to a layer. When using Sequential models, prefer using an `Input(shape)` object as the first layer in the model instead.\n",
            "  super().__init__(**kwargs)\n"
          ]
        },
        {
          "output_type": "stream",
          "name": "stdout",
          "text": [
            "\u001b[1m3133/3133\u001b[0m \u001b[32m━━━━━━━━━━━━━━━━━━━━\u001b[0m\u001b[37m\u001b[0m \u001b[1m58s\u001b[0m 17ms/step - loss: 0.0531 - val_loss: 0.0231\n",
            "Epoch 2/20\n",
            "\u001b[1m3133/3133\u001b[0m \u001b[32m━━━━━━━━━━━━━━━━━━━━\u001b[0m\u001b[37m\u001b[0m \u001b[1m53s\u001b[0m 17ms/step - loss: 0.0499 - val_loss: 0.0230\n",
            "Epoch 3/20\n",
            "\u001b[1m3133/3133\u001b[0m \u001b[32m━━━━━━━━━━━━━━━━━━━━\u001b[0m\u001b[37m\u001b[0m \u001b[1m53s\u001b[0m 17ms/step - loss: 0.0499 - val_loss: 0.0231\n",
            "Epoch 4/20\n",
            "\u001b[1m3133/3133\u001b[0m \u001b[32m━━━━━━━━━━━━━━━━━━━━\u001b[0m\u001b[37m\u001b[0m \u001b[1m84s\u001b[0m 18ms/step - loss: 0.0499 - val_loss: 0.0230\n",
            "Epoch 5/20\n",
            "\u001b[1m3133/3133\u001b[0m \u001b[32m━━━━━━━━━━━━━━━━━━━━\u001b[0m\u001b[37m\u001b[0m \u001b[1m81s\u001b[0m 17ms/step - loss: 0.0498 - val_loss: 0.0230\n",
            "Epoch 6/20\n",
            "\u001b[1m3133/3133\u001b[0m \u001b[32m━━━━━━━━━━━━━━━━━━━━\u001b[0m\u001b[37m\u001b[0m \u001b[1m81s\u001b[0m 17ms/step - loss: 0.0498 - val_loss: 0.0230\n",
            "Epoch 7/20\n",
            "\u001b[1m3133/3133\u001b[0m \u001b[32m━━━━━━━━━━━━━━━━━━━━\u001b[0m\u001b[37m\u001b[0m \u001b[1m83s\u001b[0m 17ms/step - loss: 0.0498 - val_loss: 0.0230\n",
            "Epoch 8/20\n",
            "\u001b[1m3133/3133\u001b[0m \u001b[32m━━━━━━━━━━━━━━━━━━━━\u001b[0m\u001b[37m\u001b[0m \u001b[1m82s\u001b[0m 17ms/step - loss: 0.0498 - val_loss: 0.0230\n",
            "Epoch 9/20\n",
            "\u001b[1m3133/3133\u001b[0m \u001b[32m━━━━━━━━━━━━━━━━━━━━\u001b[0m\u001b[37m\u001b[0m \u001b[1m82s\u001b[0m 17ms/step - loss: 0.0499 - val_loss: 0.0230\n",
            "Epoch 10/20\n",
            "\u001b[1m3133/3133\u001b[0m \u001b[32m━━━━━━━━━━━━━━━━━━━━\u001b[0m\u001b[37m\u001b[0m \u001b[1m82s\u001b[0m 18ms/step - loss: 0.0498 - val_loss: 0.0230\n",
            "Epoch 11/20\n",
            "\u001b[1m3133/3133\u001b[0m \u001b[32m━━━━━━━━━━━━━━━━━━━━\u001b[0m\u001b[37m\u001b[0m \u001b[1m80s\u001b[0m 17ms/step - loss: 0.0498 - val_loss: 0.0230\n",
            "Epoch 12/20\n",
            "\u001b[1m3133/3133\u001b[0m \u001b[32m━━━━━━━━━━━━━━━━━━━━\u001b[0m\u001b[37m\u001b[0m \u001b[1m83s\u001b[0m 18ms/step - loss: 0.0498 - val_loss: 0.0230\n",
            "Epoch 13/20\n",
            "\u001b[1m3133/3133\u001b[0m \u001b[32m━━━━━━━━━━━━━━━━━━━━\u001b[0m\u001b[37m\u001b[0m \u001b[1m82s\u001b[0m 18ms/step - loss: 0.0498 - val_loss: 0.0230\n",
            "Epoch 14/20\n",
            "\u001b[1m3133/3133\u001b[0m \u001b[32m━━━━━━━━━━━━━━━━━━━━\u001b[0m\u001b[37m\u001b[0m \u001b[1m81s\u001b[0m 17ms/step - loss: 0.0499 - val_loss: 0.0230\n",
            "Epoch 15/20\n",
            "\u001b[1m3133/3133\u001b[0m \u001b[32m━━━━━━━━━━━━━━━━━━━━\u001b[0m\u001b[37m\u001b[0m \u001b[1m81s\u001b[0m 17ms/step - loss: 0.0497 - val_loss: 0.0230\n",
            "Epoch 16/20\n",
            "\u001b[1m3133/3133\u001b[0m \u001b[32m━━━━━━━━━━━━━━━━━━━━\u001b[0m\u001b[37m\u001b[0m \u001b[1m54s\u001b[0m 17ms/step - loss: 0.0497 - val_loss: 0.0230\n",
            "Epoch 17/20\n",
            "\u001b[1m3133/3133\u001b[0m \u001b[32m━━━━━━━━━━━━━━━━━━━━\u001b[0m\u001b[37m\u001b[0m \u001b[1m53s\u001b[0m 17ms/step - loss: 0.0498 - val_loss: 0.0230\n",
            "Epoch 18/20\n",
            "\u001b[1m3133/3133\u001b[0m \u001b[32m━━━━━━━━━━━━━━━━━━━━\u001b[0m\u001b[37m\u001b[0m \u001b[1m83s\u001b[0m 17ms/step - loss: 0.0497 - val_loss: 0.0230\n",
            "Epoch 19/20\n",
            "\u001b[1m3133/3133\u001b[0m \u001b[32m━━━━━━━━━━━━━━━━━━━━\u001b[0m\u001b[37m\u001b[0m \u001b[1m54s\u001b[0m 17ms/step - loss: 0.0497 - val_loss: 0.0230\n",
            "Epoch 20/20\n",
            "\u001b[1m3133/3133\u001b[0m \u001b[32m━━━━━━━━━━━━━━━━━━━━\u001b[0m\u001b[37m\u001b[0m \u001b[1m83s\u001b[0m 18ms/step - loss: 0.0497 - val_loss: 0.0230\n",
            "\u001b[1m3133/3133\u001b[0m \u001b[32m━━━━━━━━━━━━━━━━━━━━\u001b[0m\u001b[37m\u001b[0m \u001b[1m17s\u001b[0m 5ms/step\n",
            "\u001b[1m784/784\u001b[0m \u001b[32m━━━━━━━━━━━━━━━━━━━━\u001b[0m\u001b[37m\u001b[0m \u001b[1m4s\u001b[0m 6ms/step\n",
            "\\Resultsá:\n",
            "MSE on the train set: 0.049572\n",
            "MSE on the test set: 0.022956\n",
            "\u001b[1m1/1\u001b[0m \u001b[32m━━━━━━━━━━━━━━━━━━━━\u001b[0m\u001b[37m\u001b[0m \u001b[1m0s\u001b[0m 55ms/step\n",
            "\n",
            "Predict price movements for the next session: 0.4868\n"
          ]
        }
      ]
    },
    {
      "cell_type": "markdown",
      "source": [
        "## VIC"
      ],
      "metadata": {
        "id": "5PR_cy7u5Xyy"
      }
    },
    {
      "cell_type": "code",
      "source": [
        "data_vic = \"/content/VIC.csv\"\n",
        "model, scaler, train_pred, test_pred, history, y_train, y_test, X_train, X_test= train(data_vic)\n",
        "\n",
        "# Results\n",
        "print(\"\\Resultsá:\")\n",
        "print(f\"MSE on the train set: {np.mean((train_pred - y_train) ** 2):.6f}\")\n",
        "print(f\"MSE on the test set: {np.mean((test_pred - y_test) ** 2):.6f}\")\n",
        "\n",
        "# Predict price movements for the next session\n",
        "last_sequence = X_test[-1:]\n",
        "next_price_change = model.predict(last_sequence)[0][0]\n",
        "print(f\"\\nPredict price movements for the next session: {next_price_change:.4f}\")"
      ],
      "metadata": {
        "colab": {
          "base_uri": "https://localhost:8080/"
        },
        "id": "wNlt8C4d5Zgh",
        "outputId": "27147419-93d8-48c1-a1f7-19a68862874d"
      },
      "execution_count": null,
      "outputs": [
        {
          "output_type": "stream",
          "name": "stdout",
          "text": [
            "Epoch 1/20\n"
          ]
        },
        {
          "output_type": "stream",
          "name": "stderr",
          "text": [
            "/usr/local/lib/python3.11/dist-packages/keras/src/layers/rnn/rnn.py:200: UserWarning: Do not pass an `input_shape`/`input_dim` argument to a layer. When using Sequential models, prefer using an `Input(shape)` object as the first layer in the model instead.\n",
            "  super().__init__(**kwargs)\n"
          ]
        },
        {
          "output_type": "stream",
          "name": "stdout",
          "text": [
            "\u001b[1m2532/2532\u001b[0m \u001b[32m━━━━━━━━━━━━━━━━━━━━\u001b[0m\u001b[37m\u001b[0m \u001b[1m50s\u001b[0m 18ms/step - loss: 0.0895 - val_loss: 0.0447\n",
            "Epoch 2/20\n",
            "\u001b[1m2532/2532\u001b[0m \u001b[32m━━━━━━━━━━━━━━━━━━━━\u001b[0m\u001b[37m\u001b[0m \u001b[1m82s\u001b[0m 18ms/step - loss: 0.0792 - val_loss: 0.0437\n",
            "Epoch 3/20\n",
            "\u001b[1m2532/2532\u001b[0m \u001b[32m━━━━━━━━━━━━━━━━━━━━\u001b[0m\u001b[37m\u001b[0m \u001b[1m44s\u001b[0m 17ms/step - loss: 0.0793 - val_loss: 0.0440\n",
            "Epoch 4/20\n",
            "\u001b[1m2532/2532\u001b[0m \u001b[32m━━━━━━━━━━━━━━━━━━━━\u001b[0m\u001b[37m\u001b[0m \u001b[1m83s\u001b[0m 18ms/step - loss: 0.0788 - val_loss: 0.0440\n",
            "Epoch 5/20\n",
            "\u001b[1m2532/2532\u001b[0m \u001b[32m━━━━━━━━━━━━━━━━━━━━\u001b[0m\u001b[37m\u001b[0m \u001b[1m80s\u001b[0m 17ms/step - loss: 0.0791 - val_loss: 0.0439\n",
            "Epoch 6/20\n",
            "\u001b[1m2532/2532\u001b[0m \u001b[32m━━━━━━━━━━━━━━━━━━━━\u001b[0m\u001b[37m\u001b[0m \u001b[1m82s\u001b[0m 17ms/step - loss: 0.0788 - val_loss: 0.0440\n",
            "Epoch 7/20\n",
            "\u001b[1m2532/2532\u001b[0m \u001b[32m━━━━━━━━━━━━━━━━━━━━\u001b[0m\u001b[37m\u001b[0m \u001b[1m43s\u001b[0m 17ms/step - loss: 0.0789 - val_loss: 0.0439\n",
            "Epoch 8/20\n",
            "\u001b[1m2532/2532\u001b[0m \u001b[32m━━━━━━━━━━━━━━━━━━━━\u001b[0m\u001b[37m\u001b[0m \u001b[1m82s\u001b[0m 17ms/step - loss: 0.0791 - val_loss: 0.0440\n",
            "Epoch 9/20\n",
            "\u001b[1m2532/2532\u001b[0m \u001b[32m━━━━━━━━━━━━━━━━━━━━\u001b[0m\u001b[37m\u001b[0m \u001b[1m45s\u001b[0m 18ms/step - loss: 0.0791 - val_loss: 0.0440\n",
            "Epoch 10/20\n",
            "\u001b[1m2532/2532\u001b[0m \u001b[32m━━━━━━━━━━━━━━━━━━━━\u001b[0m\u001b[37m\u001b[0m \u001b[1m45s\u001b[0m 18ms/step - loss: 0.0790 - val_loss: 0.0442\n",
            "Epoch 11/20\n",
            "\u001b[1m2532/2532\u001b[0m \u001b[32m━━━━━━━━━━━━━━━━━━━━\u001b[0m\u001b[37m\u001b[0m \u001b[1m44s\u001b[0m 18ms/step - loss: 0.0789 - val_loss: 0.0443\n",
            "Epoch 12/20\n",
            "\u001b[1m2532/2532\u001b[0m \u001b[32m━━━━━━━━━━━━━━━━━━━━\u001b[0m\u001b[37m\u001b[0m \u001b[1m83s\u001b[0m 18ms/step - loss: 0.0788 - val_loss: 0.0442\n",
            "Epoch 13/20\n",
            "\u001b[1m2532/2532\u001b[0m \u001b[32m━━━━━━━━━━━━━━━━━━━━\u001b[0m\u001b[37m\u001b[0m \u001b[1m43s\u001b[0m 17ms/step - loss: 0.0788 - val_loss: 0.0441\n",
            "Epoch 14/20\n",
            "\u001b[1m2532/2532\u001b[0m \u001b[32m━━━━━━━━━━━━━━━━━━━━\u001b[0m\u001b[37m\u001b[0m \u001b[1m45s\u001b[0m 18ms/step - loss: 0.0791 - val_loss: 0.0440\n",
            "Epoch 15/20\n",
            "\u001b[1m2532/2532\u001b[0m \u001b[32m━━━━━━━━━━━━━━━━━━━━\u001b[0m\u001b[37m\u001b[0m \u001b[1m82s\u001b[0m 18ms/step - loss: 0.0790 - val_loss: 0.0442\n",
            "Epoch 16/20\n",
            "\u001b[1m2532/2532\u001b[0m \u001b[32m━━━━━━━━━━━━━━━━━━━━\u001b[0m\u001b[37m\u001b[0m \u001b[1m82s\u001b[0m 18ms/step - loss: 0.0789 - val_loss: 0.0445\n",
            "Epoch 17/20\n",
            "\u001b[1m2532/2532\u001b[0m \u001b[32m━━━━━━━━━━━━━━━━━━━━\u001b[0m\u001b[37m\u001b[0m \u001b[1m80s\u001b[0m 17ms/step - loss: 0.0791 - val_loss: 0.0443\n",
            "Epoch 18/20\n",
            "\u001b[1m2532/2532\u001b[0m \u001b[32m━━━━━━━━━━━━━━━━━━━━\u001b[0m\u001b[37m\u001b[0m \u001b[1m82s\u001b[0m 17ms/step - loss: 0.0790 - val_loss: 0.0443\n",
            "Epoch 19/20\n",
            "\u001b[1m2532/2532\u001b[0m \u001b[32m━━━━━━━━━━━━━━━━━━━━\u001b[0m\u001b[37m\u001b[0m \u001b[1m45s\u001b[0m 18ms/step - loss: 0.0791 - val_loss: 0.0442\n",
            "Epoch 20/20\n",
            "\u001b[1m2532/2532\u001b[0m \u001b[32m━━━━━━━━━━━━━━━━━━━━\u001b[0m\u001b[37m\u001b[0m \u001b[1m82s\u001b[0m 18ms/step - loss: 0.0788 - val_loss: 0.0442\n",
            "\u001b[1m2532/2532\u001b[0m \u001b[32m━━━━━━━━━━━━━━━━━━━━\u001b[0m\u001b[37m\u001b[0m \u001b[1m13s\u001b[0m 5ms/step\n",
            "\u001b[1m633/633\u001b[0m \u001b[32m━━━━━━━━━━━━━━━━━━━━\u001b[0m\u001b[37m\u001b[0m \u001b[1m3s\u001b[0m 5ms/step\n",
            "\\Resultsá:\n",
            "MSE on the train set: 0.080604\n",
            "MSE on the test set: 0.044165\n",
            "\u001b[1m1/1\u001b[0m \u001b[32m━━━━━━━━━━━━━━━━━━━━\u001b[0m\u001b[37m\u001b[0m \u001b[1m0s\u001b[0m 39ms/step\n",
            "\n",
            "Predict price movements for the next session: 0.4800\n"
          ]
        }
      ]
    }
  ]
}
